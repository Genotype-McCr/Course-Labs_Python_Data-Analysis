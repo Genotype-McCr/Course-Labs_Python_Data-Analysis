{
 "cells": [
  {
   "cell_type": "markdown",
   "metadata": {},
   "source": [
    "# Practice notebook for regression analysis with dependent data in NHANES\n",
    "\n",
    "This notebook will give you the opportunity to perform some analyses\n",
    "using the regression methods for dependent data that we are focusing\n",
    "on in this week of the course.\n",
    "\n",
    "Enter the code in response to each question in the boxes labeled \"enter your code here\".\n",
    "Then enter your responses to the questions in the boxes labeled \"Type\n",
    "Markdown and Latex\".\n",
    "\n",
    "This notebook is based on the NHANES case study notebook for\n",
    "regression with dependent data.  Most of the code that you will need\n",
    "to write below is very similar to code that appears in the case study\n",
    "notebook.  You will need to edit code from that notebook in small ways\n",
    "to adapt it to the prompts below.\n",
    "\n",
    "To get started, we will use the same module imports and read the data\n",
    "in the same way as we did in the case study:"
   ]
  },
  {
   "cell_type": "code",
   "execution_count": 1,
   "metadata": {},
   "outputs": [],
   "source": [
    "%matplotlib inline\n",
    "import matplotlib.pyplot as plt\n",
    "import seaborn as sns\n",
    "import pandas as pd\n",
    "import statsmodels.api as sm\n",
    "import numpy as np\n",
    "\n",
    "url = \"https://raw.githubusercontent.com/kshedden/statswpy/master/NHANES/merged/nhanes_2015_2016.csv\"\n",
    "da = pd.read_csv(url)\n",
    "\n",
    "# Drop unused columns, drop rows with any missing values.\n",
    "vars = [\"BPXSY1\", \"RIDAGEYR\", \"RIAGENDR\", \"RIDRETH1\", \"DMDEDUC2\", \"BMXBMI\",\n",
    "        \"SMQ020\", \"SDMVSTRA\", \"SDMVPSU\", 'BPXDI1']\n",
    "da = da[vars].dropna()\n",
    "\n",
    "# This is the grouping variable\n",
    "da[\"group\"] = 10*da.SDMVSTRA + da.SDMVPSU"
   ]
  },
  {
   "cell_type": "markdown",
   "metadata": {},
   "source": [
    "## Question 1: \n",
    "\n",
    "Build a marginal linear model using GEE for the first measurement of diastolic blood pressure (`BPXDI1`), accounting for the grouping variable defined above.  This initial model should have no covariates, and will be used to assess the ICC of this blood pressure measure."
   ]
  },
  {
   "cell_type": "code",
   "execution_count": 2,
   "metadata": {},
   "outputs": [
    {
     "name": "stdout",
     "output_type": "stream",
     "text": [
      "           GEE_params    GEE_SE\n",
      "Intercept   70.008821  0.418665\n"
     ]
    }
   ],
   "source": [
    "model = sm.GEE.from_formula(\"BPXDI1 ~ 1\", groups=\"group\",\n",
    "           cov_struct=sm.cov_struct.Exchangeable(), data=da)\n",
    "result = model.fit()\n",
    "\n",
    "x = pd.DataFrame({\"GEE_params\": result.params, \"GEE_SE\": result.bse})\n",
    "x = x[[\"GEE_params\", \"GEE_SE\"]]\n",
    "print(x)"
   ]
  },
  {
   "cell_type": "code",
   "execution_count": 3,
   "metadata": {},
   "outputs": [
    {
     "name": "stdout",
     "output_type": "stream",
     "text": [
      "The correlation between two observations in the same cluster is 0.031\n"
     ]
    }
   ],
   "source": [
    "print(result.cov_struct.summary())"
   ]
  },
  {
   "cell_type": "markdown",
   "metadata": {},
   "source": [
    "__Q1a.__ What is the ICC for diastolic blood pressure?  What can you\n",
    "  conclude by comparing it to the ICC for systolic blood pressure?"
   ]
  },
  {
   "cell_type": "code",
   "execution_count": 4,
   "metadata": {},
   "outputs": [
    {
     "name": "stdout",
     "output_type": "stream",
     "text": [
      "The correlation between two observations in the same cluster is 0.030\n"
     ]
    }
   ],
   "source": [
    "model = sm.GEE.from_formula(\"BPXSY1 ~ 1\", groups=\"group\",\n",
    "           cov_struct=sm.cov_struct.Exchangeable(), data=da)\n",
    "result = model.fit()\n",
    "print(result.cov_struct.summary())"
   ]
  },
  {
   "cell_type": "markdown",
   "metadata": {},
   "source": [
    "The ICC for diastolic blood pressure is 0.031. The systolic blood pressure ICC is 0.030. These numbers are small but not negligible, and the consistency suggests a cluster effect. This will make standard errors of an OLS or GLM model inaccurate."
   ]
  },
  {
   "cell_type": "markdown",
   "metadata": {},
   "source": [
    "## Question 2: \n",
    "\n",
    "Take your model from question 1, and add gender, age, and BMI to it as covariates."
   ]
  },
  {
   "cell_type": "code",
   "execution_count": 5,
   "metadata": {},
   "outputs": [
    {
     "name": "stdout",
     "output_type": "stream",
     "text": [
      "           GEE_params    GEE_SE\n",
      "Intercept   70.785818  1.097640\n",
      "RIAGENDR    -2.742236  0.401613\n",
      "RIDAGEYR    -0.040927  0.014387\n",
      "BMXBMI       0.183877  0.029573\n"
     ]
    }
   ],
   "source": [
    "model = sm.GEE.from_formula(\"BPXDI1 ~ RIAGENDR + RIDAGEYR + BMXBMI\", groups=\"group\",\n",
    "           cov_struct=sm.cov_struct.Exchangeable(), data=da)\n",
    "result = model.fit()\n",
    "\n",
    "x = pd.DataFrame({\"GEE_params\": result.params, \"GEE_SE\": result.bse})\n",
    "x = x[[\"GEE_params\", \"GEE_SE\"]]\n",
    "print(x)"
   ]
  },
  {
   "cell_type": "code",
   "execution_count": 6,
   "metadata": {},
   "outputs": [
    {
     "name": "stdout",
     "output_type": "stream",
     "text": [
      "The correlation between two observations in the same cluster is 0.030\n"
     ]
    }
   ],
   "source": [
    "print(result.cov_struct.summary())"
   ]
  },
  {
   "cell_type": "markdown",
   "metadata": {},
   "source": [
    "__Q2a.__ What is the ICC for this model?  What can you conclude by comparing it to the ICC for the model that you fit in question 1?"
   ]
  },
  {
   "cell_type": "markdown",
   "metadata": {},
   "source": [
    "The ICC for this model is 0.030. The cluster effect is small and robust, with precise consistency across variables. Because the cluster effect did not make a notable change, we can conclude the covariates either are evenly distributed across clusters or their correlation to diastolic blood pressure is quite low."
   ]
  },
  {
   "cell_type": "markdown",
   "metadata": {},
   "source": [
    "## Question 3: \n",
    "\n",
    "Split the data into separate datasets for females and for males and fit two separate marginal linear models for diastolic blood pressure, one only for females, and one only for males."
   ]
  },
  {
   "cell_type": "code",
   "execution_count": 7,
   "metadata": {},
   "outputs": [],
   "source": [
    "female = da[da.RIAGENDR == 2]\n",
    "male = da[da.RIAGENDR == 1]"
   ]
  },
  {
   "cell_type": "code",
   "execution_count": 8,
   "metadata": {},
   "outputs": [
    {
     "name": "stdout",
     "output_type": "stream",
     "text": [
      "           GEE_params    GEE_SE\n",
      "Intercept   68.772111  0.401327\n",
      "The correlation between two observations in the same cluster is 0.029\n"
     ]
    }
   ],
   "source": [
    "#GEE Female\n",
    "model = sm.GEE.from_formula(\"BPXDI1 ~ 1\", groups=\"group\",\n",
    "           cov_struct=sm.cov_struct.Exchangeable(), data=female)\n",
    "result = model.fit()\n",
    "\n",
    "x = pd.DataFrame({\"GEE_params\": result.params, \"GEE_SE\": result.bse})\n",
    "x = x[[\"GEE_params\", \"GEE_SE\"]]\n",
    "print(x)\n",
    "print(result.cov_struct.summary())"
   ]
  },
  {
   "cell_type": "code",
   "execution_count": 9,
   "metadata": {},
   "outputs": [
    {
     "name": "stdout",
     "output_type": "stream",
     "text": [
      "           GEE_params   GEE_SE\n",
      "Intercept   71.253287  0.52976\n",
      "The correlation between two observations in the same cluster is 0.035\n"
     ]
    }
   ],
   "source": [
    "#GEE Male\n",
    "model = sm.GEE.from_formula(\"BPXDI1 ~ 1\", groups=\"group\",\n",
    "           cov_struct=sm.cov_struct.Exchangeable(), data=male)\n",
    "result = model.fit()\n",
    "\n",
    "x = pd.DataFrame({\"GEE_params\": result.params, \"GEE_SE\": result.bse})\n",
    "x = x[[\"GEE_params\", \"GEE_SE\"]]\n",
    "print(x)\n",
    "print(result.cov_struct.summary())"
   ]
  },
  {
   "cell_type": "markdown",
   "metadata": {},
   "source": [
    "__Q3a.__ What do you learn by comparing these two fitted models?"
   ]
  },
  {
   "cell_type": "markdown",
   "metadata": {},
   "source": [
    "Gender is not evenly distributed across clusters and is correlated to diastolic blood pressure. Men have a higher diastolic blood pressure, on average."
   ]
  },
  {
   "cell_type": "markdown",
   "metadata": {},
   "source": [
    "## Question 4: \n",
    "\n",
    "Using the entire data set, fit a multilevel model for diastolic blood pressure, predicted by age, gender, BMI, and educational attainment.  Include a random intercept for groups."
   ]
  },
  {
   "cell_type": "code",
   "execution_count": 10,
   "metadata": {},
   "outputs": [
    {
     "data": {
      "text/html": [
       "<table class=\"simpletable\">\n",
       "<tr>\n",
       "       <td>Model:</td>       <td>MixedLM</td> <td>Dependent Variable:</td>   <td>BPXDI1</td>   \n",
       "</tr>\n",
       "<tr>\n",
       "  <td>No. Observations:</td>  <td>5102</td>         <td>Method:</td>          <td>REML</td>    \n",
       "</tr>\n",
       "<tr>\n",
       "     <td>No. Groups:</td>      <td>30</td>          <td>Scale:</td>         <td>153.0915</td>  \n",
       "</tr>\n",
       "<tr>\n",
       "  <td>Min. group size:</td>    <td>106</td>     <td>Log-Likelihood:</td>   <td>-20100.7500</td>\n",
       "</tr>\n",
       "<tr>\n",
       "  <td>Max. group size:</td>    <td>226</td>       <td>Converged:</td>          <td>Yes</td>    \n",
       "</tr>\n",
       "<tr>\n",
       "  <td>Mean group size:</td>   <td>170.1</td>           <td></td>                <td></td>      \n",
       "</tr>\n",
       "</table>\n",
       "<table class=\"simpletable\">\n",
       "<tr>\n",
       "          <td></td>          <th>Coef.</th> <th>Std.Err.</th>    <th>z</th>   <th>P>|z|</th> <th>[0.025</th> <th>0.975]</th>\n",
       "</tr>\n",
       "<tr>\n",
       "  <th>Intercept</th>        <td>68.717</td>   <td>1.202</td>  <td>57.170</td> <td>0.000</td> <td>66.361</td> <td>71.073</td>\n",
       "</tr>\n",
       "<tr>\n",
       "  <th>C(RIDRETH1)[T.2]</th>  <td>1.505</td>   <td>0.697</td>   <td>2.160</td> <td>0.031</td>  <td>0.139</td>  <td>2.871</td>\n",
       "</tr>\n",
       "<tr>\n",
       "  <th>C(RIDRETH1)[T.3]</th>  <td>0.512</td>   <td>0.597</td>   <td>0.858</td> <td>0.391</td> <td>-0.658</td>  <td>1.682</td>\n",
       "</tr>\n",
       "<tr>\n",
       "  <th>C(RIDRETH1)[T.4]</th>  <td>2.537</td>   <td>0.659</td>   <td>3.852</td> <td>0.000</td>  <td>1.246</td>  <td>3.828</td>\n",
       "</tr>\n",
       "<tr>\n",
       "  <th>C(RIDRETH1)[T.5]</th>  <td>3.491</td>   <td>0.690</td>   <td>5.061</td> <td>0.000</td>  <td>2.139</td>  <td>4.843</td>\n",
       "</tr>\n",
       "<tr>\n",
       "  <th>RIDAGEYR</th>         <td>-0.036</td>   <td>0.010</td>  <td>-3.590</td> <td>0.000</td> <td>-0.056</td> <td>-0.016</td>\n",
       "</tr>\n",
       "<tr>\n",
       "  <th>RIAGENDR</th>         <td>-2.750</td>   <td>0.349</td>  <td>-7.883</td> <td>0.000</td> <td>-3.433</td> <td>-2.066</td>\n",
       "</tr>\n",
       "<tr>\n",
       "  <th>BMXBMI</th>            <td>0.197</td>   <td>0.026</td>   <td>7.642</td> <td>0.000</td>  <td>0.147</td>  <td>0.248</td>\n",
       "</tr>\n",
       "<tr>\n",
       "  <th>group Var</th>         <td>4.196</td>   <td>0.110</td>     <td></td>      <td></td>       <td></td>       <td></td>   \n",
       "</tr>\n",
       "</table>"
      ],
      "text/plain": [
       "<class 'statsmodels.iolib.summary2.Summary'>\n",
       "\"\"\"\n",
       "           Mixed Linear Model Regression Results\n",
       "===========================================================\n",
       "Model:              MixedLM Dependent Variable: BPXDI1     \n",
       "No. Observations:   5102    Method:             REML       \n",
       "No. Groups:         30      Scale:              153.0915   \n",
       "Min. group size:    106     Log-Likelihood:     -20100.7500\n",
       "Max. group size:    226     Converged:          Yes        \n",
       "Mean group size:    170.1                                  \n",
       "-----------------------------------------------------------\n",
       "                 Coef.  Std.Err.   z    P>|z| [0.025 0.975]\n",
       "-----------------------------------------------------------\n",
       "Intercept        68.717    1.202 57.170 0.000 66.361 71.073\n",
       "C(RIDRETH1)[T.2]  1.505    0.697  2.160 0.031  0.139  2.871\n",
       "C(RIDRETH1)[T.3]  0.512    0.597  0.858 0.391 -0.658  1.682\n",
       "C(RIDRETH1)[T.4]  2.537    0.659  3.852 0.000  1.246  3.828\n",
       "C(RIDRETH1)[T.5]  3.491    0.690  5.061 0.000  2.139  4.843\n",
       "RIDAGEYR         -0.036    0.010 -3.590 0.000 -0.056 -0.016\n",
       "RIAGENDR         -2.750    0.349 -7.883 0.000 -3.433 -2.066\n",
       "BMXBMI            0.197    0.026  7.642 0.000  0.147  0.248\n",
       "group Var         4.196    0.110                           \n",
       "===========================================================\n",
       "\n",
       "\"\"\""
      ]
     },
     "execution_count": 10,
     "metadata": {},
     "output_type": "execute_result"
    }
   ],
   "source": [
    "#The statsmodel website informs that\n",
    "#statsmodels.regression.mixed_linear_model.MixedLM.from_formula\n",
    "#defaults with a random intercept for groups.\n",
    "\n",
    "model = sm.MixedLM.from_formula(\"BPXDI1 ~ RIDAGEYR + RIAGENDR + BMXBMI + C(RIDRETH1)\",\n",
    "           groups=\"group\", data=da)\n",
    "result = model.fit()\n",
    "result.summary()"
   ]
  },
  {
   "cell_type": "markdown",
   "metadata": {},
   "source": [
    "__Q4a.__ How would you describe the strength of the clustering in this analysis?"
   ]
  },
  {
   "cell_type": "markdown",
   "metadata": {},
   "source": [
    "The variance for groups is estimated at 4.196. If we were to choose two groups at random, their random effects would differ on average by around 2.90 (calculated as sqrt(4.196 * 2). This is a sizeable shift, comparable to near 15 BMI towards diastolic blood pressure modeling."
   ]
  },
  {
   "cell_type": "markdown",
   "metadata": {},
   "source": [
    "__Q4b:__ Include a random intercept for age, and describe your findings."
   ]
  },
  {
   "cell_type": "code",
   "execution_count": 11,
   "metadata": {},
   "outputs": [],
   "source": [
    "da[\"age_cen\"] = da.groupby(\"group\").RIDAGEYR.transform(lambda x: x - x.mean())"
   ]
  },
  {
   "cell_type": "code",
   "execution_count": 12,
   "metadata": {},
   "outputs": [
    {
     "name": "stderr",
     "output_type": "stream",
     "text": [
      "C:\\Users\\tiesa\\anaconda3\\lib\\site-packages\\statsmodels\\regression\\mixed_linear_model.py:2237: ConvergenceWarning: The MLE may be on the boundary of the parameter space.\n",
      "  warnings.warn(msg, ConvergenceWarning)\n"
     ]
    },
    {
     "data": {
      "text/html": [
       "<table class=\"simpletable\">\n",
       "<tr>\n",
       "       <td>Model:</td>       <td>MixedLM</td> <td>Dependent Variable:</td>   <td>BPXDI1</td>   \n",
       "</tr>\n",
       "<tr>\n",
       "  <td>No. Observations:</td>  <td>5102</td>         <td>Method:</td>          <td>REML</td>    \n",
       "</tr>\n",
       "<tr>\n",
       "     <td>No. Groups:</td>      <td>30</td>          <td>Scale:</td>         <td>156.3896</td>  \n",
       "</tr>\n",
       "<tr>\n",
       "  <td>Min. group size:</td>    <td>106</td>     <td>Log-Likelihood:</td>   <td>-20141.0497</td>\n",
       "</tr>\n",
       "<tr>\n",
       "  <td>Max. group size:</td>    <td>226</td>       <td>Converged:</td>          <td>Yes</td>    \n",
       "</tr>\n",
       "<tr>\n",
       "  <td>Mean group size:</td>   <td>170.1</td>           <td></td>                <td></td>      \n",
       "</tr>\n",
       "</table>\n",
       "<table class=\"simpletable\">\n",
       "<tr>\n",
       "          <td></td>          <th>Coef.</th> <th>Std.Err.</th>    <th>z</th>   <th>P>|z|</th> <th>[0.025</th> <th>0.975]</th>\n",
       "</tr>\n",
       "<tr>\n",
       "  <th>Intercept</th>        <td>67.181</td>   <td>1.025</td>  <td>65.565</td> <td>0.000</td> <td>65.173</td> <td>69.189</td>\n",
       "</tr>\n",
       "<tr>\n",
       "  <th>C(RIDRETH1)[T.2]</th> <td>-0.008</td>   <td>0.637</td>  <td>-0.013</td> <td>0.990</td> <td>-1.256</td>  <td>1.240</td>\n",
       "</tr>\n",
       "<tr>\n",
       "  <th>C(RIDRETH1)[T.3]</th>  <td>0.401</td>   <td>0.524</td>   <td>0.765</td> <td>0.444</td> <td>-0.626</td>  <td>1.427</td>\n",
       "</tr>\n",
       "<tr>\n",
       "  <th>C(RIDRETH1)[T.4]</th>  <td>2.027</td>   <td>0.570</td>   <td>3.558</td> <td>0.000</td>  <td>0.910</td>  <td>3.144</td>\n",
       "</tr>\n",
       "<tr>\n",
       "  <th>C(RIDRETH1)[T.5]</th>  <td>3.651</td>   <td>0.629</td>   <td>5.803</td> <td>0.000</td>  <td>2.418</td>  <td>4.883</td>\n",
       "</tr>\n",
       "<tr>\n",
       "  <th>age_cen</th>          <td>-0.031</td>   <td>0.015</td>  <td>-2.102</td> <td>0.036</td> <td>-0.060</td> <td>-0.002</td>\n",
       "</tr>\n",
       "<tr>\n",
       "  <th>RIAGENDR</th>         <td>-2.780</td>   <td>0.352</td>  <td>-7.890</td> <td>0.000</td> <td>-3.470</td> <td>-2.089</td>\n",
       "</tr>\n",
       "<tr>\n",
       "  <th>BMXBMI</th>            <td>0.197</td>   <td>0.026</td>   <td>7.626</td> <td>0.000</td>  <td>0.146</td>  <td>0.248</td>\n",
       "</tr>\n",
       "<tr>\n",
       "  <th>age_cen Var</th>       <td>0.003</td>   <td>0.000</td>     <td></td>      <td></td>       <td></td>       <td></td>   \n",
       "</tr>\n",
       "</table>"
      ],
      "text/plain": [
       "<class 'statsmodels.iolib.summary2.Summary'>\n",
       "\"\"\"\n",
       "           Mixed Linear Model Regression Results\n",
       "===========================================================\n",
       "Model:              MixedLM Dependent Variable: BPXDI1     \n",
       "No. Observations:   5102    Method:             REML       \n",
       "No. Groups:         30      Scale:              156.3896   \n",
       "Min. group size:    106     Log-Likelihood:     -20141.0497\n",
       "Max. group size:    226     Converged:          Yes        \n",
       "Mean group size:    170.1                                  \n",
       "-----------------------------------------------------------\n",
       "                 Coef.  Std.Err.   z    P>|z| [0.025 0.975]\n",
       "-----------------------------------------------------------\n",
       "Intercept        67.181    1.025 65.565 0.000 65.173 69.189\n",
       "C(RIDRETH1)[T.2] -0.008    0.637 -0.013 0.990 -1.256  1.240\n",
       "C(RIDRETH1)[T.3]  0.401    0.524  0.765 0.444 -0.626  1.427\n",
       "C(RIDRETH1)[T.4]  2.027    0.570  3.558 0.000  0.910  3.144\n",
       "C(RIDRETH1)[T.5]  3.651    0.629  5.803 0.000  2.418  4.883\n",
       "age_cen          -0.031    0.015 -2.102 0.036 -0.060 -0.002\n",
       "RIAGENDR         -2.780    0.352 -7.890 0.000 -3.470 -2.089\n",
       "BMXBMI            0.197    0.026  7.626 0.000  0.146  0.248\n",
       "age_cen Var       0.003    0.000                           \n",
       "===========================================================\n",
       "\n",
       "\"\"\""
      ]
     },
     "execution_count": 12,
     "metadata": {},
     "output_type": "execute_result"
    }
   ],
   "source": [
    "model = sm.MixedLM.from_formula(\"BPXDI1 ~ age_cen + RIAGENDR + BMXBMI + C(RIDRETH1)\",\n",
    "           groups=\"group\", vc_formula={\"age_cen\": \"0+age_cen\"}, data=da)\n",
    "result = model.fit()\n",
    "result.summary()"
   ]
  },
  {
   "cell_type": "markdown",
   "metadata": {},
   "source": [
    "The estimated variance for random age slopes is 0.003, which translates to a standard deviation of 0.055. With a centered age coefficient at -0.031, we see that in some clusters diastolic blood pressure increases by 0.024 units per year while in others, it decreases by 0.086 units per year."
   ]
  }
 ],
 "metadata": {
  "kernelspec": {
   "display_name": "Python 3 (ipykernel)",
   "language": "python",
   "name": "python3"
  },
  "language_info": {
   "codemirror_mode": {
    "name": "ipython",
    "version": 3
   },
   "file_extension": ".py",
   "mimetype": "text/x-python",
   "name": "python",
   "nbconvert_exporter": "python",
   "pygments_lexer": "ipython3",
   "version": "3.9.13"
  }
 },
 "nbformat": 4,
 "nbformat_minor": 4
}

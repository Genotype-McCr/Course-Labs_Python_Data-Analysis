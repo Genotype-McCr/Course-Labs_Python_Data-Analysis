{
 "cells": [
  {
   "cell_type": "markdown",
   "metadata": {},
   "source": [
    "# Practice notebook for confidence intervals using NHANES data\n",
    "\n",
    "This notebook will give you the opportunity to practice working with confidence intervals using the NHANES data.\n",
    "\n",
    "You can enter your code into the cells that say \"enter your code here\", and you can type responses to the questions into the cells that say \"Type Markdown and Latex\".\n",
    "\n",
    "Note that most of the code that you will need to write below is very similar to code that appears in the case study notebook.  You will need to edit code from that notebook in small ways to adapt it to the prompts below.\n",
    "\n",
    "To get started, we will use the same module imports and read the data in the same way as we did in the case study:"
   ]
  },
  {
   "cell_type": "code",
   "execution_count": 1,
   "metadata": {},
   "outputs": [],
   "source": [
    "%matplotlib inline\n",
    "import matplotlib.pyplot as plt\n",
    "import pandas as pd\n",
    "import numpy as np\n",
    "import seaborn as sns\n",
    "import statsmodels.api as sm\n",
    "\n",
    "url = \"https://raw.githubusercontent.com/kshedden/statswpy/master/NHANES/merged/nhanes_2015_2016.csv\"\n",
    "da = pd.read_csv(url)\n",
    "\n",
    "da[\"RIAGENDRx\"] = da.RIAGENDR.replace({1: 'Male', 2: \"Female\"})"
   ]
  },
  {
   "cell_type": "markdown",
   "metadata": {},
   "source": [
    "## Question 1\n",
    "\n",
    "Restrict the sample to women between 35 and 50, then use the marital status variable [DMDMARTL](https://wwwn.cdc.gov/Nchs/Nhanes/2015-2016/DEMO_I.htm#DMDMARTL) to partition this sample into two groups - women who are currently married, and women who are not currently married.  Within each of these groups, calculate the proportion of women who have completed college.  Calculate 95% confidence intervals for each of these proportions."
   ]
  },
  {
   "cell_type": "code",
   "execution_count": 2,
   "metadata": {},
   "outputs": [
    {
     "name": "stdout",
     "output_type": "stream",
     "text": [
      "(5735, 29)\n"
     ]
    }
   ],
   "source": [
    "print(da.shape)"
   ]
  },
  {
   "cell_type": "code",
   "execution_count": 3,
   "metadata": {},
   "outputs": [],
   "source": [
    "da[\"DMDMARTLx\"] = da.DMDMARTL.replace({1: \"Married\", 2: \"Widowed\", 3: \"Divorced\",\n",
    "                         4: \"Separated\", 5: \"Never married\", 6: \"Living with partner\", 77: np.nan, 99: np.nan})"
   ]
  },
  {
   "cell_type": "code",
   "execution_count": 4,
   "metadata": {},
   "outputs": [
    {
     "name": "stdout",
     "output_type": "stream",
     "text": [
      "The Proportion of College Completion for Married Women between 35 and 50 is: 0.361\n",
      "The Proportion of College Completion for Not Currently Married Women between 35 and 50 is: 0.213\n"
     ]
    }
   ],
   "source": [
    "married = da[(da['DMDMARTLx'] == 'Married')&(da['RIAGENDRx'] == 'Female')&(da['RIDAGEYR']>=35)&(da['RIDAGEYR']<=50)]\n",
    "notmarried = da[(da['DMDMARTLx'] != 'Married')&(da['RIAGENDRx'] == 'Female')&(da['RIDAGEYR']>=35)&(da['RIDAGEYR']<=50)]\n",
    "\n",
    "prop_cc_married = (married['DMDEDUC2'] == 5).mean()\n",
    "prop_cc_notmarried = (notmarried['DMDEDUC2'] == 5).mean()\n",
    "\n",
    "print(\"The Proportion of College Completion for Married Women between 35 and 50 is:\", round(prop_cc_married, 3))\n",
    "print(\"The Proportion of College Completion for Not Currently Married Women between 35 and 50 is:\", round(prop_cc_notmarried.mean(), 3))"
   ]
  },
  {
   "cell_type": "code",
   "execution_count": 5,
   "metadata": {},
   "outputs": [
    {
     "name": "stdout",
     "output_type": "stream",
     "text": [
      "95% CI for Married College Completion\n",
      "(0.3163811208674688, 0.4052224426069187)\n",
      "0.08884132173944992\n",
      "449 0.36080178173719374\n"
     ]
    }
   ],
   "source": [
    "#CI for Married College Completion\n",
    "\n",
    "p = prop_cc_married\n",
    "n = len(married)\n",
    "lcb = p - 1.96 * np.sqrt(p * (1 - p) / n)  \n",
    "ucb = p + 1.96 * np.sqrt(p * (1 - p) / n)\n",
    "\n",
    "print(\"95% CI for Married College Completion\")\n",
    "print((lcb,ucb))\n",
    "print(abs(lcb - ucb))\n",
    "print(n, p)"
   ]
  },
  {
   "cell_type": "code",
   "execution_count": 6,
   "metadata": {},
   "outputs": [
    {
     "data": {
      "text/plain": [
       "(0.31638193710753626, 0.4052216263668512)"
      ]
     },
     "execution_count": 6,
     "metadata": {},
     "output_type": "execute_result"
    }
   ],
   "source": [
    "#Routinely, the above can be performed with the statsmodel library.\n",
    "sm.stats.proportion_confint(n*p, n)  "
   ]
  },
  {
   "cell_type": "code",
   "execution_count": 7,
   "metadata": {},
   "outputs": [
    {
     "name": "stdout",
     "output_type": "stream",
     "text": [
      "95% CI for Not Currently Married College Completion\n",
      "(0.16936816767089768, 0.2566673352876822)\n",
      "0.08729916761678452\n",
      "338 0.21301775147928995\n"
     ]
    }
   ],
   "source": [
    "#CI for Not Currently Married College Completion\n",
    "\n",
    "p = prop_cc_notmarried\n",
    "n = len(notmarried)\n",
    "print(\"95% CI for Not Currently Married College Completion\")\n",
    "print(sm.stats.proportion_confint(n*p, n))\n",
    "lcb, ucb = sm.stats.proportion_confint(n*p, n)\n",
    "print(ucb - lcb)\n",
    "print(n, p)"
   ]
  },
  {
   "cell_type": "markdown",
   "metadata": {},
   "source": [
    "__Q1a.__ Identify which of the two confidence intervals is wider, and explain why this is the case. "
   ]
  },
  {
   "cell_type": "markdown",
   "metadata": {},
   "source": [
    "The confidence interview for the Married women is slightly higher. The difference in intervals comes from the difference in the total number of individuals and the different proportions of college completion in each demographic."
   ]
  },
  {
   "cell_type": "markdown",
   "metadata": {},
   "source": [
    "__Q1b.__ Write 1-2 sentences summarizing these findings for an audience that does not know what a confidence interval is (the goal here is to report the substance of what you learned about how marital status and educational attainment are related, not to teach a person what a confidence interval is)."
   ]
  },
  {
   "cell_type": "markdown",
   "metadata": {},
   "source": [
    "We are 95% confident that the proportion of college completion for married women between the ages of 35 and 50 is between (0.3163811208674688, 0.4052224426069187).\n",
    "\n",
    "We are 95% confident that the true proportion of college completion for not-currently-married women between the ages of 35 and 50 is between (0.1693673655848136, 0.25666813737376626)."
   ]
  },
  {
   "cell_type": "markdown",
   "metadata": {},
   "source": [
    "## Question 2\n",
    "\n",
    "Construct a 95% confidence interval for the proportion of smokers who are female. Construct a 95% confidence interval for the proportion of smokers who are male. Construct a 95% confidence interval for the **difference** between those two gender proportions."
   ]
  },
  {
   "cell_type": "code",
   "execution_count": 8,
   "metadata": {},
   "outputs": [
    {
     "name": "stdout",
     "output_type": "stream",
     "text": [
      "(0.028092363073832775, 0.04124659053354628)\n",
      "(0.05393852757667955, 0.07209219754846546)\n",
      "95% Difference CIs: (-0.2338728044024504, -0.18295327887682067)\n"
     ]
    }
   ],
   "source": [
    "da[\"SMQ020x\"] = da.SMQ020.replace({1: \"Yes\", 2: \"No\", 7: np.nan, 9: np.nan})  # np.nan represents a missing value\n",
    "\n",
    "#Female 95% CI\n",
    "n1 = sum((da.RIAGENDRx == \"Female\")& (da.SMQ020x.notna()))\n",
    "p = sum((da.RIAGENDRx == \"Female\")& (da.SMQ020x == \"Yes\")) / n1\n",
    "se_female = np.sqrt(p * (1 - p) / n1)\n",
    "print(sm.stats.proportion_confint(n*p, n1))\n",
    "\n",
    "#Male 95% CI\n",
    "n2 = sum((da.RIAGENDRx == \"Male\")& (da.SMQ020x.notna()))\n",
    "p = sum((da.RIAGENDRx == \"Male\")& (da.SMQ020x == \"Yes\")) / n2\n",
    "se_male = np.sqrt(p * (1 - p) / n2)\n",
    "print(sm.stats.proportion_confint(n*p, n2))\n",
    "\n",
    "#Difference 95% CI\n",
    "se_diff = np.sqrt(se_female**2 + se_male**2)\n",
    "d = (sum((da.RIAGENDRx == \"Female\")& (da.SMQ020x == \"Yes\")) / n1) - (sum((da.RIAGENDRx == \"Male\")& (da.SMQ020x == \"Yes\")) / n2)\n",
    "lcb = d - 2*se_diff\n",
    "ucb = d + 2*se_diff\n",
    "print(\"95% Difference CIs:\", ((lcb, ucb)))"
   ]
  },
  {
   "cell_type": "markdown",
   "metadata": {},
   "source": [
    "__Q2a.__ Why might it be relevant to report the separate gender proportions **and** the difference between the gender proportions?"
   ]
  },
  {
   "cell_type": "markdown",
   "metadata": {},
   "source": [
    "Gender-based dependency of the data could hide some important trends through averaging them. Calculating the difference CIs shows us here that we are 95% confident that there is difference between the two categories in smoker proportions."
   ]
  },
  {
   "cell_type": "markdown",
   "metadata": {},
   "source": [
    "__Q2b.__ How does the **width** of the confidence interval for the difference between the gender proportions compare to the widths of the confidence intervals for the separate gender proportions?"
   ]
  },
  {
   "cell_type": "code",
   "execution_count": 9,
   "metadata": {},
   "outputs": [
    {
     "name": "stdout",
     "output_type": "stream",
     "text": [
      "0.03306632639203233\n",
      "0.03730371866910853\n",
      "0.050866598438891575\n"
     ]
    }
   ],
   "source": [
    "print(abs(0.2879023206749516 - 0.3209686470669839))\n",
    "print(abs(0.4934902211293819 - 0.5307939397984904))\n",
    "print(abs(0.2331398958124142 - 0.18227329737352263))"
   ]
  },
  {
   "cell_type": "markdown",
   "metadata": {},
   "source": [
    "The width of the confidence interval for the difference between the gender proportions is wider than either of the gender categories as there is always more variability in the calculation, reflecting less precision for the same degree of confidence."
   ]
  },
  {
   "cell_type": "markdown",
   "metadata": {},
   "source": [
    "## Question 3\n",
    "\n",
    "Construct a 95% interval for height ([BMXHT](https://wwwn.cdc.gov/Nchs/Nhanes/2015-2016/BMX_I.htm#BMXHT)) in centimeters.  Then convert height from centimeters to inches by dividing by 2.54, and construct a 95% confidence interval for height in inches.  Finally, convert the endpoints (the lower and upper confidence limits) of the confidence interval from inches to back to centimeters   "
   ]
  },
  {
   "cell_type": "code",
   "execution_count": 10,
   "metadata": {},
   "outputs": [
    {
     "name": "stdout",
     "output_type": "stream",
     "text": [
      "(nan, nan)\n",
      "(nan, nan)\n",
      "(nan, nan)\n"
     ]
    }
   ],
   "source": [
    "#95% interval for height (BMXHT) in centimeters\n",
    "da.BMXHT.dropna(inplace=True)\n",
    "print(sm.stats.DescrStatsW(da.BMXHT).zconfint_mean())\n",
    "\n",
    "#95% interval for height (BMXHT) in inches\n",
    "inches = da.BMXHT / 2.54\n",
    "print(sm.stats.DescrStatsW(inches).zconfint_mean())\n",
    "\n",
    "#95% interval for height (BMXHT) from inches to centimeters\n",
    "cm = inches * 2.54\n",
    "print(sm.stats.DescrStatsW(cm).zconfint_mean())"
   ]
  },
  {
   "cell_type": "markdown",
   "metadata": {},
   "source": [
    "__Q3a.__ Describe how the confidence interval constructed in centimeters relates to the confidence interval constructed in inches."
   ]
  },
  {
   "cell_type": "markdown",
   "metadata": {},
   "source": [
    "The endpoint values of the lower and upper confidence intervals are divided by the 2.54 cm to inches conversion, \n",
    "ie (165.88055125872887, 166.40511769949427) / 2.54 = (65.30730364516884, 65.51382586594264)."
   ]
  },
  {
   "cell_type": "markdown",
   "metadata": {},
   "source": [
    "## Question 4\n",
    "\n",
    "Partition the sample based on 10-year age bands, i.e. the resulting groups will consist of people with ages from 18-28, 29-38, etc. Construct 95% confidence intervals for the difference between the mean BMI for females and for males within each age band."
   ]
  },
  {
   "cell_type": "markdown",
   "metadata": {},
   "source": [
    "__Q4a.__ How do the widths of these confidence intervals differ?  Provide an explanation for any substantial diferences in the confidence interval widths that you see."
   ]
  },
  {
   "cell_type": "code",
   "execution_count": 11,
   "metadata": {},
   "outputs": [
    {
     "name": "stdout",
     "output_type": "stream",
     "text": [
      "[18, 28]\n",
      "Female Average: 27.822775800711735\n",
      "Female Std: 7.960990952854273 \n",
      "\n",
      "Male Average: 26.969514563106834\n",
      "Male Std: 6.7794366607443335 \n",
      "\n",
      "pooled:  (-1.7413396392274145, 0.03481716401752033)\n",
      "pooled width:  1.7761568032449349\n",
      "\n",
      "Significant at 95% level?\n",
      "No\n",
      "---------------------------------------------------------------------------------------\n",
      "\n",
      "[29, 38]\n",
      "Female Average: 29.943442622950815\n",
      "Female Std: 7.95909705345726 \n",
      "\n",
      "Male Average: 29.697180043383963\n",
      "Male Std: 6.726690240807493 \n",
      "\n",
      "pooled:  (-1.1877114002496492, 0.6951862411158937)\n",
      "pooled width:  1.8828976413655427\n",
      "\n",
      "Significant at 95% level?\n",
      "No\n",
      "---------------------------------------------------------------------------------------\n",
      "\n",
      "[39, 48]\n",
      "Female Average: 31.003732809430268\n",
      "Female Std: 8.044642040902996 \n",
      "\n",
      "Male Average: 29.51464646464647\n",
      "Male Std: 6.104950274111975 \n",
      "\n",
      "pooled:  (-2.443853349014053, -0.534319340553526)\n",
      "pooled width:  1.909534008460527\n",
      "\n",
      "Significant at 95% level?\n",
      "Yes\n",
      "---------------------------------------------------------------------------------------\n",
      "\n",
      "[49, 58]\n",
      "Female Average: 30.78736141906873\n",
      "Female Std: 7.647590464408261 \n",
      "\n",
      "Male Average: 29.385131894484417\n",
      "Male Std: 6.151533544288316 \n",
      "\n",
      "pooled:  (-2.3314902075137227, -0.4729688416549195)\n",
      "pooled width:  1.8585213658588033\n",
      "\n",
      "Significant at 95% level?\n",
      "Yes\n",
      "---------------------------------------------------------------------------------------\n",
      "\n",
      "[59, 68]\n",
      "Female Average: 31.054663774403497\n",
      "Female Std: 7.779502397309873 \n",
      "\n",
      "Male Average: 29.232461873638325\n",
      "Male Std: 5.959024259626599 \n",
      "\n",
      "pooled:  (-2.7191581021391964, -0.9252456993910703)\n",
      "pooled width:  1.7939124027481261\n",
      "\n",
      "Significant at 95% level?\n",
      "Yes\n",
      "---------------------------------------------------------------------------------------\n",
      "\n",
      "[69, 78]\n",
      "Female Average: 30.537818181818174\n",
      "Female Std: 6.780588085434752 \n",
      "\n",
      "Male Average: 28.720270270270255\n",
      "Male Std: 5.336652406683164 \n",
      "\n",
      "pooled:  (-2.8169097637576943, -0.8181860593381367)\n",
      "pooled width:  1.9987237044195576\n",
      "\n",
      "Significant at 95% level?\n",
      "Yes\n",
      "---------------------------------------------------------------------------------------\n",
      "\n",
      "[79, 88]\n",
      "Female Average: 27.850000000000037\n",
      "Female Std: 5.4837808847434975 \n",
      "\n",
      "Male Average: 27.46436781609195\n",
      "Male Std: 4.695649862661761 \n",
      "\n",
      "pooled:  (-1.4339280761211786, 0.6626637083050912)\n",
      "pooled width:  2.09659178442627\n",
      "\n",
      "Significant at 95% level?\n",
      "No\n",
      "---------------------------------------------------------------------------------------\n",
      "\n"
     ]
    }
   ],
   "source": [
    "for val in [[18, 28], [29, 38], [39, 48], [49, 58], [59, 68], [69, 78], [79, 88]]:\n",
    "    da_year_band=da[(da['RIDAGEYR']>=val[0])&(da['RIDAGEYR']<=val[1])]\n",
    "    \n",
    "    bmi_males=da_year_band[da_year_band['RIAGENDR']==1]['BMXBMI']\n",
    "    bmi_females=da_year_band[da_year_band['RIAGENDR']==2]['BMXBMI']\n",
    "    \n",
    "    bmi_males=bmi_males.dropna()\n",
    "    bmi_females=bmi_females.dropna()\n",
    "    \n",
    "    bmi_males_temp=sm.stats.DescrStatsW(bmi_males)\n",
    "    bmi_females_temp=sm.stats.DescrStatsW(bmi_females)\n",
    "    \n",
    "    cm = sm.stats.CompareMeans(bmi_males_temp, bmi_females_temp)\n",
    "    lower, upper=cm.tconfint_diff(usevar='pooled')\n",
    "    print(val)\n",
    "    print(\"Female Average:\", bmi_females.mean())\n",
    "    print(\"Female Std:\", bmi_females.std(), \"\\n\")\n",
    "\n",
    "    print(\"Male Average:\", bmi_males.mean())\n",
    "    print(\"Male Std:\", bmi_males.std(), \"\\n\")\n",
    "\n",
    "    print(\"pooled: \", ((lower, upper)))\n",
    "    if lower < 0 and upper < 0:\n",
    "        print(\"pooled width: \", (upper - lower))\n",
    "    elif lower > 0 and upper > 0:\n",
    "        print(\"pooled width: \", (upper - lower))\n",
    "    else:\n",
    "        print(\"pooled width: \", abs(upper)+abs(lower))\n",
    "    \n",
    "    print(\"\")\n",
    "    print(\"Significant at 95% level?\")\n",
    "    if lower <= 0 <= upper: print(\"No\")\n",
    "    else: print(\"Yes\")\n",
    "    print('---------------------------------------------------------------------------------------\\n')"
   ]
  },
  {
   "cell_type": "markdown",
   "metadata": {},
   "source": [
    "The substantial differences are considered the ones statistically significant at the 95% level, indicating zero is outside of the confidence intervals. There is a pattern to this and to explain it uses outside knowledge. However, we can see that from the 39- to -78 age blocks, women have a higher BMI than men in this dataset, though the sample mean difference at every level is consistently around 2 units higher for women."
   ]
  },
  {
   "cell_type": "markdown",
   "metadata": {},
   "source": [
    "## Question 5\n",
    "\n",
    "Construct a 95% confidence interval for the first and second systolic blood pressure measures, and for the difference between the first and second systolic blood pressure measurements within a subject."
   ]
  },
  {
   "cell_type": "code",
   "execution_count": 12,
   "metadata": {},
   "outputs": [],
   "source": [
    "first_sbp=da['BPXSY1']\n",
    "second_sbp=da['BPXSY2']\n",
    "sbp_diff=first_sbp-second_sbp\n",
    "\n",
    "first_sbp=first_sbp.dropna()\n",
    "second_sbp=second_sbp.dropna()\n",
    "sbp_diff=sbp_diff.dropna()"
   ]
  },
  {
   "cell_type": "code",
   "execution_count": 13,
   "metadata": {},
   "outputs": [
    {
     "data": {
      "text/plain": [
       "334"
      ]
     },
     "execution_count": 13,
     "metadata": {},
     "output_type": "execute_result"
    }
   ],
   "source": [
    "da['BPXSY1'].isna().sum()"
   ]
  },
  {
   "cell_type": "code",
   "execution_count": 14,
   "metadata": {},
   "outputs": [
    {
     "data": {
      "text/plain": [
       "200"
      ]
     },
     "execution_count": 14,
     "metadata": {},
     "output_type": "execute_result"
    }
   ],
   "source": [
    "da['BPXSY2'].isna().sum()"
   ]
  },
  {
   "cell_type": "code",
   "execution_count": 15,
   "metadata": {},
   "outputs": [
    {
     "name": "stdout",
     "output_type": "stream",
     "text": [
      "First SBP\n",
      "95% CI: (124.59163222328895, 125.57759569746646)\n",
      "diff: 0.9859634741775096\n"
     ]
    }
   ],
   "source": [
    "lower, upper=sm.stats.DescrStatsW(first_sbp).tconfint_mean()\n",
    "print(\"First SBP\")\n",
    "print(\"95% CI:\", ((lower, upper)))\n",
    "if lower < 0 and upper < 0:\n",
    "    print(\"diff:\", (upper - lower))\n",
    "elif lower > 0 and upper > 0:\n",
    "    print(\"diff:\", (upper - lower))\n",
    "else:\n",
    "    print(\"diff:\", abs(upper)+abs(lower))"
   ]
  },
  {
   "cell_type": "code",
   "execution_count": 16,
   "metadata": {},
   "outputs": [
    {
     "name": "stdout",
     "output_type": "stream",
     "text": [
      "Second SBP\n",
      "95% CI: (124.29482629577244, 125.27120803123749)\n",
      "diff: 0.9763817354650541\n"
     ]
    }
   ],
   "source": [
    "lower, upper=sm.stats.DescrStatsW(second_sbp).tconfint_mean()\n",
    "print(\"Second SBP\")\n",
    "print(\"95% CI:\", ((lower, upper)))\n",
    "if lower < 0 and upper < 0:\n",
    "    print(\"diff:\", (upper - lower))\n",
    "elif lower > 0 and upper > 0:\n",
    "    print(\"diff:\", (upper - lower))\n",
    "else:\n",
    "    print(\"diff:\", abs(upper)+abs(lower))"
   ]
  },
  {
   "cell_type": "code",
   "execution_count": 17,
   "metadata": {},
   "outputs": [
    {
     "name": "stdout",
     "output_type": "stream",
     "text": [
      "Difference\n",
      "95% CI: (0.5399696008802797, 0.8100024609561889)\n",
      "diff: 0.2700328600759092\n"
     ]
    }
   ],
   "source": [
    "lower, upper=sm.stats.DescrStatsW(sbp_diff).tconfint_mean()\n",
    "print(\"Difference\")\n",
    "print(\"95% CI:\", ((lower, upper)))\n",
    "if lower < 0 and upper < 0:\n",
    "    print(\"diff:\", (upper - lower))\n",
    "elif lower > 0 and upper > 0:\n",
    "    print(\"diff:\", (upper - lower))\n",
    "else:\n",
    "    print(\"diff:\", abs(upper)+abs(lower))"
   ]
  },
  {
   "cell_type": "markdown",
   "metadata": {},
   "source": [
    "__Q5a.__ Based on these confidence intervals, would you say that a difference of zero between the population mean values of the first and second systolic blood pressure measures is consistent with the data?"
   ]
  },
  {
   "cell_type": "markdown",
   "metadata": {},
   "source": [
    "Based on our 95% confidence interval, a true difference between the population mean values of the first and second systolic blood pressure measures is not consistent with the data as zero falls outside the boundaries of the confidence interval."
   ]
  },
  {
   "cell_type": "markdown",
   "metadata": {},
   "source": [
    "__Q5b.__ Discuss how the width of the confidence interval for the within-subject difference compares to the widths of the confidence intervals for the first and second measures."
   ]
  },
  {
   "cell_type": "markdown",
   "metadata": {},
   "source": [
    "The widths are almost equivalent. The difference comes from the difference of the total number of samples, with the difference in totals resulting from a difference in null values as demonstrated below."
   ]
  },
  {
   "cell_type": "code",
   "execution_count": 18,
   "metadata": {},
   "outputs": [
    {
     "name": "stdout",
     "output_type": "stream",
     "text": [
      "334\n",
      "200\n"
     ]
    }
   ],
   "source": [
    "print(da['BPXSY1'].isna().sum())\n",
    "print(da['BPXSY2'].isna().sum())"
   ]
  },
  {
   "cell_type": "markdown",
   "metadata": {},
   "source": [
    "## Question 6\n",
    "\n",
    "Construct a 95% confidence interval for the mean difference between the average age of a smoker, and the average age of a non-smoker."
   ]
  },
  {
   "cell_type": "code",
   "execution_count": 19,
   "metadata": {},
   "outputs": [
    {
     "name": "stdout",
     "output_type": "stream",
     "text": [
      "Avg smokers age:  52.09659335920655\n",
      "Avg Non-smoker age:  45.259835584263065\n",
      "95% CI diff: (5.891617113853669, 7.781898436033303)\n"
     ]
    }
   ],
   "source": [
    "smokers_age = da[da['SMQ020x']=='Yes']['RIDAGEYR']\n",
    "nonsmokers_age = da[da['SMQ020x']=='No']['RIDAGEYR']\n",
    "\n",
    "#Getting statistical information for packaged use in statsmodel.stats.CompareMeans()\n",
    "smokers_age_stats=sm.stats.DescrStatsW(smokers_age)\n",
    "nonsmokers_age_stats=sm.stats.DescrStatsW(nonsmokers_age)\n",
    "\n",
    "cm = sm.stats.CompareMeans(smokers_age_stats, nonsmokers_age_stats)\n",
    "lower, upper=cm.tconfint_diff(usevar = 'unequal')\n",
    "\n",
    "print(\"Avg smokers age: \", smokers_age.mean())\n",
    "print(\"Avg Non-smoker age: \", nonsmokers_age.mean())\n",
    "print(\"95% CI diff:\", ((lower, upper)))"
   ]
  },
  {
   "cell_type": "markdown",
   "metadata": {},
   "source": [
    "__Q6a.__ Use graphical and numerical techniques to compare the variation in the ages of smokers to the variation in the ages of non-smokers.  "
   ]
  },
  {
   "cell_type": "code",
   "execution_count": 20,
   "metadata": {},
   "outputs": [
    {
     "data": {
      "text/plain": [
       "count    2319.000000\n",
       "mean       52.096593\n",
       "std        17.461141\n",
       "min        18.000000\n",
       "25%        37.000000\n",
       "50%        54.000000\n",
       "75%        66.000000\n",
       "max        80.000000\n",
       "Name: RIDAGEYR, dtype: float64"
      ]
     },
     "execution_count": 20,
     "metadata": {},
     "output_type": "execute_result"
    }
   ],
   "source": [
    "smokers_age.describe()"
   ]
  },
  {
   "cell_type": "code",
   "execution_count": 21,
   "metadata": {},
   "outputs": [
    {
     "data": {
      "text/plain": [
       "count    3406.000000\n",
       "mean       45.259836\n",
       "std        18.543286\n",
       "min        18.000000\n",
       "25%        29.000000\n",
       "50%        44.000000\n",
       "75%        60.000000\n",
       "max        80.000000\n",
       "Name: RIDAGEYR, dtype: float64"
      ]
     },
     "execution_count": 21,
     "metadata": {},
     "output_type": "execute_result"
    }
   ],
   "source": [
    "nonsmokers_age.describe()"
   ]
  },
  {
   "cell_type": "code",
   "execution_count": 22,
   "metadata": {},
   "outputs": [
    {
     "data": {
      "text/plain": [
       "[Text(0.5, 0, 'Smoker Attribute'), Text(0, 0.5, 'Age of Respondent')]"
      ]
     },
     "execution_count": 22,
     "metadata": {},
     "output_type": "execute_result"
    },
    {
     "data": {
      "image/png": "[encoded data removed]",
      "text/plain": [
       "<Figure size 800x500 with 1 Axes>"
      ]
     },
     "metadata": {},
     "output_type": "display_data"
    }
   ],
   "source": [
    "smoking = da[['SMQ020x', 'RIDAGEYR']]\n",
    "\n",
    "plt.figure(figsize=(8,5))\n",
    "sns.boxplot(x=\"SMQ020x\", y=\"RIDAGEYR\",\n",
    "            hue=\"SMQ020x\", palette=[\"gray\", \"beige\"],\n",
    "            data=smoking)\\\n",
    "            .set(xlabel='Smoker Attribute', ylabel='Age of Respondent')"
   ]
  },
  {
   "cell_type": "code",
   "execution_count": 23,
   "metadata": {},
   "outputs": [
    {
     "data": {
      "text/plain": [
       "<matplotlib.legend.Legend at 0x1a3350780d0>"
      ]
     },
     "execution_count": 23,
     "metadata": {},
     "output_type": "execute_result"
    },
    {
     "data": {
      "image/png": "[encoded data removed]",
      "text/plain": [
       "<Figure size 800x500 with 1 Axes>"
      ]
     },
     "metadata": {},
     "output_type": "display_data"
    }
   ],
   "source": [
    "plt.figure(figsize=(8,5))\n",
    "sns.violinplot(x=\"SMQ020x\", y=\"RIDAGEYR\",\n",
    "            hue=\"SMQ020x\", palette=[\"gray\", \"beige\"],\n",
    "            data=smoking)\\\n",
    "            .set(xlabel='Smoker Attribute', ylabel='Age of Respondent')\n",
    "plt.legend()"
   ]
  },
  {
   "cell_type": "markdown",
   "metadata": {},
   "source": [
    "__Q6b.__ Does it appear that uncertainty about the mean age of smokers, or uncertainty about the mean age of non-smokers contributed more to the uncertainty for the mean difference that we are focusing on here?"
   ]
  },
  {
   "cell_type": "markdown",
   "metadata": {},
   "source": [
    "When referring to uncertainty surrounding the mean difference, we're talking about the width of the difference CI. Because both the standard deviation - used to calculate the pooled/nonpooled variance - and the sample size of non-smokers is higher, non-smokers contribute more to the uncertainty to the mean difference."
   ]
  }
 ],
 "metadata": {
  "kernelspec": {
   "display_name": "Python 3 (ipykernel)",
   "language": "python",
   "name": "python3"
  },
  "language_info": {
   "codemirror_mode": {
    "name": "ipython",
    "version": 3
   },
   "file_extension": ".py",
   "mimetype": "text/x-python",
   "name": "python",
   "nbconvert_exporter": "python",
   "pygments_lexer": "ipython3",
   "version": "3.9.13"
  }
 },
 "nbformat": 4,
 "nbformat_minor": 4
}
